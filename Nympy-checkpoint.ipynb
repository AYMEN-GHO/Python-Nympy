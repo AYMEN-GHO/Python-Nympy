{
 "cells": [
  {
   "cell_type": "code",
   "execution_count": 1,
   "metadata": {},
   "outputs": [
    {
     "name": "stdout",
     "output_type": "stream",
     "text": [
      "[5, 9, 4, 3]\n",
      "<class 'array.array'>\n"
     ]
    }
   ],
   "source": [
    "from array import array\n",
    "arra1 = array('b',[5,9,4,3])\n",
    "print(arra1.tolist())\n",
    "print(array)"
   ]
  },
  {
   "cell_type": "code",
   "execution_count": 9,
   "metadata": {},
   "outputs": [
    {
     "name": "stdout",
     "output_type": "stream",
     "text": [
      "given array:\n",
      "[[ 1  2  3  4]\n",
      " [ 5  6  7  8]\n",
      " [ 9 10 11 12]\n",
      " [13 14 15 16]]\n",
      "sum of the diagonal element of a given array:\n",
      "34\n"
     ]
    }
   ],
   "source": [
    "import numpy as np\n",
    "p1 = np.array([1, 2, 3, 4, 5, 6, 7, 8, 9, 10, 11, 12,13,14,15,16])\n",
    "p2 = p1.reshape(4,4)\n",
    "print(\"given array:\")\n",
    "print(p2)\n",
    "res =  np.trace(p2)\n",
    "print(\"sum of the diagonal element of a given array:\")\n",
    "print(res)"
   ]
  },
  {
   "cell_type": "code",
   "execution_count": 29,
   "metadata": {},
   "outputs": [
    {
     "name": "stdout",
     "output_type": "stream",
     "text": [
      "choose x : 44\n",
      "given array: \n",
      "[[1000   90   -5]\n",
      " [  75    2    3]]\n",
      "Values bigger than 44 = [1000   90   75]\n"
     ]
    }
   ],
   "source": [
    "x1 = int(input('choose x : '))\n",
    "import numpy as np\n",
    "a1 = np.array([[1000, 90, -5], [75, 2, 3]])\n",
    "print(\"given array: \")\n",
    "print(a1)\n",
    "print(\"Values bigger than \" + str(x1) + \" =\", a1[a1>x1])\n"
   ]
  },
  {
   "cell_type": "code",
   "execution_count": 54,
   "metadata": {},
   "outputs": [
    {
     "name": "stdout",
     "output_type": "stream",
     "text": [
      "A: \n",
      "[[ 0.  1.  2.]\n",
      " [ 3.  4.  5.]\n",
      " [ 6.  7.  8.]\n",
      " [ 9. 10. 11.]]\n",
      "B: \n",
      "[[23 24 51]\n",
      " [ 5 99 78]\n",
      " [36 24 28]\n",
      " [13 66  1]]\n",
      "A + B = C: \n",
      "[[ 23.  25.  53.]\n",
      " [  8. 103.  83.]\n",
      " [ 42.  31.  36.]\n",
      " [ 22.  76.  12.]]\n",
      "A + B = D: \n",
      "[[ 23.  25.  53.]\n",
      " [  8. 103.  83.]\n",
      " [ 42.  31.  36.]\n",
      " [ 22.  76.  12.]]\n"
     ]
    }
   ],
   "source": [
    "import numpy as np\n",
    "A = np.arange(12.0).reshape((4, 3))\n",
    "B = np.array((23 ,24 ,51 ,5 ,99 ,78 ,36 ,24 ,28 ,13 ,66 ,1)).reshape((4, 3))\n",
    "C = A + B\n",
    "D = np.add(A,B)\n",
    "print(\"A: \")\n",
    "print(A)\n",
    "print(\"B: \")\n",
    "print(B)\n",
    "print(\"A + B = C: \")\n",
    "print(C)\n",
    "print(\"A + B = D: \")\n",
    "print(D)"
   ]
  },
  {
   "cell_type": "code",
   "execution_count": 86,
   "metadata": {},
   "outputs": [
    {
     "name": "stdout",
     "output_type": "stream",
     "text": [
      "Matrix: \n",
      "[[10  2  5]\n",
      " [ 3 14  9]\n",
      " [18 12 -1]]\n",
      "The mean of each row of the matrix: [5.66666667 8.66666667 9.66666667]\n",
      "Subtract the mean of each row of the matrix: \n",
      "[[  4.33333333  -6.66666667  -4.66666667]\n",
      " [ -2.66666667   5.33333333  -0.66666667]\n",
      " [ 12.33333333   3.33333333 -10.66666667]]\n"
     ]
    }
   ],
   "source": [
    "import numpy as np\n",
    "print(\"Matrix: \")\n",
    "X = np.array([[10, 2, 5], [3, 14, 9], [18, 12, -1]])\n",
    "print(X)\n",
    "Y = X.mean(axis=1)\n",
    "print(\"The mean of each row of the matrix: \" + str(Y))\n",
    "print(\"Subtract the mean of each row of the matrix: \")\n",
    "Z = X - X.mean(axis=1)\n",
    "print(Z)"
   ]
  },
  {
   "cell_type": "code",
   "execution_count": null,
   "metadata": {},
   "outputs": [],
   "source": []
  },
  {
   "cell_type": "code",
   "execution_count": null,
   "metadata": {},
   "outputs": [],
   "source": []
  }
 ],
 "metadata": {
  "kernelspec": {
   "display_name": "Python 3",
   "language": "python",
   "name": "python3"
  },
  "language_info": {
   "codemirror_mode": {
    "name": "ipython",
    "version": 3
   },
   "file_extension": ".py",
   "mimetype": "text/x-python",
   "name": "python",
   "nbconvert_exporter": "python",
   "pygments_lexer": "ipython3",
   "version": "3.8.5"
  }
 },
 "nbformat": 4,
 "nbformat_minor": 4
}
